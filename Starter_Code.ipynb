{
 "cells": [
  {
   "cell_type": "markdown",
   "metadata": {},
   "source": [
    "## Preprocessing"
   ]
  },
  {
   "cell_type": "code",
   "execution_count": 2,
   "metadata": {},
   "outputs": [
    {
     "data": {
      "text/html": [
       "<div>\n",
       "<style scoped>\n",
       "    .dataframe tbody tr th:only-of-type {\n",
       "        vertical-align: middle;\n",
       "    }\n",
       "\n",
       "    .dataframe tbody tr th {\n",
       "        vertical-align: top;\n",
       "    }\n",
       "\n",
       "    .dataframe thead th {\n",
       "        text-align: right;\n",
       "    }\n",
       "</style>\n",
       "<table border=\"1\" class=\"dataframe\">\n",
       "  <thead>\n",
       "    <tr style=\"text-align: right;\">\n",
       "      <th></th>\n",
       "      <th>EIN</th>\n",
       "      <th>NAME</th>\n",
       "      <th>APPLICATION_TYPE</th>\n",
       "      <th>AFFILIATION</th>\n",
       "      <th>CLASSIFICATION</th>\n",
       "      <th>USE_CASE</th>\n",
       "      <th>ORGANIZATION</th>\n",
       "      <th>STATUS</th>\n",
       "      <th>INCOME_AMT</th>\n",
       "      <th>SPECIAL_CONSIDERATIONS</th>\n",
       "      <th>ASK_AMT</th>\n",
       "      <th>IS_SUCCESSFUL</th>\n",
       "    </tr>\n",
       "  </thead>\n",
       "  <tbody>\n",
       "    <tr>\n",
       "      <th>0</th>\n",
       "      <td>10520599</td>\n",
       "      <td>BLUE KNIGHTS MOTORCYCLE CLUB</td>\n",
       "      <td>T10</td>\n",
       "      <td>Independent</td>\n",
       "      <td>C1000</td>\n",
       "      <td>ProductDev</td>\n",
       "      <td>Association</td>\n",
       "      <td>1</td>\n",
       "      <td>0</td>\n",
       "      <td>N</td>\n",
       "      <td>5000</td>\n",
       "      <td>1</td>\n",
       "    </tr>\n",
       "    <tr>\n",
       "      <th>1</th>\n",
       "      <td>10531628</td>\n",
       "      <td>AMERICAN CHESAPEAKE CLUB CHARITABLE TR</td>\n",
       "      <td>T3</td>\n",
       "      <td>Independent</td>\n",
       "      <td>C2000</td>\n",
       "      <td>Preservation</td>\n",
       "      <td>Co-operative</td>\n",
       "      <td>1</td>\n",
       "      <td>1-9999</td>\n",
       "      <td>N</td>\n",
       "      <td>108590</td>\n",
       "      <td>1</td>\n",
       "    </tr>\n",
       "    <tr>\n",
       "      <th>2</th>\n",
       "      <td>10547893</td>\n",
       "      <td>ST CLOUD PROFESSIONAL FIREFIGHTERS</td>\n",
       "      <td>T5</td>\n",
       "      <td>CompanySponsored</td>\n",
       "      <td>C3000</td>\n",
       "      <td>ProductDev</td>\n",
       "      <td>Association</td>\n",
       "      <td>1</td>\n",
       "      <td>0</td>\n",
       "      <td>N</td>\n",
       "      <td>5000</td>\n",
       "      <td>0</td>\n",
       "    </tr>\n",
       "    <tr>\n",
       "      <th>3</th>\n",
       "      <td>10553066</td>\n",
       "      <td>SOUTHSIDE ATHLETIC ASSOCIATION</td>\n",
       "      <td>T3</td>\n",
       "      <td>CompanySponsored</td>\n",
       "      <td>C2000</td>\n",
       "      <td>Preservation</td>\n",
       "      <td>Trust</td>\n",
       "      <td>1</td>\n",
       "      <td>10000-24999</td>\n",
       "      <td>N</td>\n",
       "      <td>6692</td>\n",
       "      <td>1</td>\n",
       "    </tr>\n",
       "    <tr>\n",
       "      <th>4</th>\n",
       "      <td>10556103</td>\n",
       "      <td>GENETIC RESEARCH INSTITUTE OF THE DESERT</td>\n",
       "      <td>T3</td>\n",
       "      <td>Independent</td>\n",
       "      <td>C1000</td>\n",
       "      <td>Heathcare</td>\n",
       "      <td>Trust</td>\n",
       "      <td>1</td>\n",
       "      <td>100000-499999</td>\n",
       "      <td>N</td>\n",
       "      <td>142590</td>\n",
       "      <td>1</td>\n",
       "    </tr>\n",
       "  </tbody>\n",
       "</table>\n",
       "</div>"
      ],
      "text/plain": [
       "        EIN                                      NAME APPLICATION_TYPE  \\\n",
       "0  10520599              BLUE KNIGHTS MOTORCYCLE CLUB              T10   \n",
       "1  10531628    AMERICAN CHESAPEAKE CLUB CHARITABLE TR               T3   \n",
       "2  10547893        ST CLOUD PROFESSIONAL FIREFIGHTERS               T5   \n",
       "3  10553066            SOUTHSIDE ATHLETIC ASSOCIATION               T3   \n",
       "4  10556103  GENETIC RESEARCH INSTITUTE OF THE DESERT               T3   \n",
       "\n",
       "        AFFILIATION CLASSIFICATION      USE_CASE  ORGANIZATION  STATUS  \\\n",
       "0       Independent          C1000    ProductDev   Association       1   \n",
       "1       Independent          C2000  Preservation  Co-operative       1   \n",
       "2  CompanySponsored          C3000    ProductDev   Association       1   \n",
       "3  CompanySponsored          C2000  Preservation         Trust       1   \n",
       "4       Independent          C1000     Heathcare         Trust       1   \n",
       "\n",
       "      INCOME_AMT SPECIAL_CONSIDERATIONS  ASK_AMT  IS_SUCCESSFUL  \n",
       "0              0                      N     5000              1  \n",
       "1         1-9999                      N   108590              1  \n",
       "2              0                      N     5000              0  \n",
       "3    10000-24999                      N     6692              1  \n",
       "4  100000-499999                      N   142590              1  "
      ]
     },
     "execution_count": 2,
     "metadata": {},
     "output_type": "execute_result"
    }
   ],
   "source": [
    "# Import our dependencies\n",
    "from sklearn.model_selection import train_test_split\n",
    "from sklearn.preprocessing import StandardScaler\n",
    "import pandas as pd\n",
    "import tensorflow as tf\n",
    "import random\n",
    "#  Import and read the charity_data.csv.\n",
    "import pandas as pd \n",
    "application_df = pd.read_csv(\"https://static.bc-edx.com/data/dl-1-2/m21/lms/starter/charity_data.csv\")\n",
    "application_df.head()"
   ]
  },
  {
   "cell_type": "code",
   "execution_count": 3,
   "metadata": {},
   "outputs": [],
   "source": [
    "# Drop the non-beneficial ID columns, 'EIN' and 'NAME'.\n",
    "application_df=application_df.drop(columns=['NAME','EIN']) "
   ]
  },
  {
   "cell_type": "code",
   "execution_count": 4,
   "metadata": {},
   "outputs": [
    {
     "data": {
      "text/plain": [
       "APPLICATION_TYPE            17\n",
       "AFFILIATION                  6\n",
       "CLASSIFICATION              71\n",
       "USE_CASE                     5\n",
       "ORGANIZATION                 4\n",
       "STATUS                       2\n",
       "INCOME_AMT                   9\n",
       "SPECIAL_CONSIDERATIONS       2\n",
       "ASK_AMT                   8747\n",
       "IS_SUCCESSFUL                2\n",
       "dtype: int64"
      ]
     },
     "execution_count": 4,
     "metadata": {},
     "output_type": "execute_result"
    }
   ],
   "source": [
    "# Determine the number of unique values in each column.\n",
    "application_df.nunique()"
   ]
  },
  {
   "cell_type": "code",
   "execution_count": 5,
   "metadata": {},
   "outputs": [
    {
     "data": {
      "text/plain": [
       "APPLICATION_TYPE\n",
       "T3     27037\n",
       "T4      1542\n",
       "T6      1216\n",
       "T5      1173\n",
       "T19     1065\n",
       "T8       737\n",
       "T7       725\n",
       "T10      528\n",
       "T9       156\n",
       "T13       66\n",
       "T12       27\n",
       "T2        16\n",
       "T25        3\n",
       "T14        3\n",
       "T29        2\n",
       "T15        2\n",
       "T17        1\n",
       "Name: count, dtype: int64"
      ]
     },
     "execution_count": 5,
     "metadata": {},
     "output_type": "execute_result"
    }
   ],
   "source": [
    "# Look at APPLICATION_TYPE value counts for binning\n",
    "counts=application_df['APPLICATION_TYPE'].value_counts()\n",
    "counts"
   ]
  },
  {
   "cell_type": "code",
   "execution_count": 6,
   "metadata": {},
   "outputs": [
    {
     "data": {
      "text/plain": [
       "APPLICATION_TYPE\n",
       "T3       27037\n",
       "T4        1542\n",
       "T6        1216\n",
       "T5        1173\n",
       "T19       1065\n",
       "Other      804\n",
       "T8         737\n",
       "T7         725\n",
       "Name: count, dtype: int64"
      ]
     },
     "execution_count": 6,
     "metadata": {},
     "output_type": "execute_result"
    }
   ],
   "source": [
    "# Choose a cutoff value and create a list of application types to be replaced\n",
    "# use the variable name `application_types_to_replace`\n",
    "application_types_to_replace=list(counts[counts < 700].index)\n",
    "# Replace in dataframe\n",
    "for app in application_types_to_replace:\n",
    "    application_df['APPLICATION_TYPE'] = application_df['APPLICATION_TYPE'].replace(app,\"Other\")\n",
    "\n",
    "# Check to make sure binning was successful\n",
    "application_df['APPLICATION_TYPE'].value_counts()"
   ]
  },
  {
   "cell_type": "code",
   "execution_count": 7,
   "metadata": {},
   "outputs": [],
   "source": [
    "# Look at CLASSIFICATION value counts for binning\n",
    "class_counts=application_df.CLASSIFICATION.value_counts()"
   ]
  },
  {
   "cell_type": "code",
   "execution_count": 8,
   "metadata": {},
   "outputs": [
    {
     "data": {
      "text/plain": [
       "CLASSIFICATION\n",
       "C1000     True\n",
       "C2000     True\n",
       "C1200     True\n",
       "C3000     True\n",
       "C2100     True\n",
       "         ...  \n",
       "C4120    False\n",
       "C8210    False\n",
       "C2561    False\n",
       "C4500    False\n",
       "C2150    False\n",
       "Name: count, Length: 71, dtype: bool"
      ]
     },
     "execution_count": 8,
     "metadata": {},
     "output_type": "execute_result"
    }
   ],
   "source": [
    "# You may find it helpful to look at CLASSIFICATION value counts >1\n",
    "application_df.CLASSIFICATION.value_counts() > 1"
   ]
  },
  {
   "cell_type": "code",
   "execution_count": 9,
   "metadata": {},
   "outputs": [
    {
     "data": {
      "text/plain": [
       "CLASSIFICATION\n",
       "C1000    17326\n",
       "C2000     6074\n",
       "C1200     4837\n",
       "C3000     1918\n",
       "C2100     1883\n",
       "Other     1003\n",
       "C7000      777\n",
       "C1700      287\n",
       "C4000      194\n",
       "Name: count, dtype: int64"
      ]
     },
     "execution_count": 9,
     "metadata": {},
     "output_type": "execute_result"
    }
   ],
   "source": [
    "# Choose a cutoff value and create a list of classifications to be replaced\n",
    "# use the variable name `classifications_to_replace`\n",
    "classifications_to_replace = list(class_counts[class_counts < 150].index)\n",
    "# Replace in dataframe\n",
    "for cls in classifications_to_replace:\n",
    "    application_df['CLASSIFICATION'] = application_df['CLASSIFICATION'].replace(cls,\"Other\")\n",
    "    \n",
    "# Check to make sure binning was successful\n",
    "application_df['CLASSIFICATION'].value_counts()"
   ]
  },
  {
   "cell_type": "code",
   "execution_count": 10,
   "metadata": {},
   "outputs": [],
   "source": [
    "# Convert categorical data to numeric with `pd.get_dummies`\n",
    "application_with_dummies_df = pd.get_dummies(application_df).astype(int) # there is a quirk of my enviorment which has get dummies outputing boolean values instead of 0 or 1.\n"
   ]
  },
  {
   "cell_type": "code",
   "execution_count": 11,
   "metadata": {},
   "outputs": [],
   "source": [
    "# Split our preprocessed data into our features and target arrays\n",
    "X=application_with_dummies_df.drop(['IS_SUCCESSFUL'], axis=1)\n",
    "y=application_with_dummies_df[\"IS_SUCCESSFUL\"]\n",
    "# Split the preprocessed data into a training and testing dataset\n",
    "X_train,X_test,y_train,y_test=train_test_split(X,y,random_state=1)"
   ]
  },
  {
   "cell_type": "code",
   "execution_count": 12,
   "metadata": {},
   "outputs": [],
   "source": [
    "# Create a StandardScaler instances\n",
    "scaler = StandardScaler()\n",
    "\n",
    "# Fit the StandardScaler\n",
    "X_scaler = scaler.fit(X_train)\n",
    "\n",
    "# Scale the data\n",
    "X_train_scaled = X_scaler.transform(X_train)\n",
    "X_test_scaled = X_scaler.transform(X_test)"
   ]
  },
  {
   "cell_type": "markdown",
   "metadata": {},
   "source": [
    "## Compile, Train and Evaluate the Model"
   ]
  },
  {
   "cell_type": "code",
   "execution_count": 13,
   "metadata": {},
   "outputs": [
    {
     "name": "stdout",
     "output_type": "stream",
     "text": [
      "Model: \"sequential\"\n",
      "_________________________________________________________________\n",
      " Layer (type)                Output Shape              Param #   \n",
      "=================================================================\n",
      " dense (Dense)               (None, 1)                 46        \n",
      "                                                                 \n"
     ]
    },
    {
     "name": "stdout",
     "output_type": "stream",
     "text": [
      " dense_1 (Dense)             (None, 1)                 2         \n",
      "                                                                 \n",
      "=================================================================\n",
      "Total params: 48 (192.00 Byte)\n",
      "Trainable params: 48 (192.00 Byte)\n",
      "Non-trainable params: 0 (0.00 Byte)\n",
      "_________________________________________________________________\n"
     ]
    }
   ],
   "source": [
    "# Define the model - deep neural net, i.e., the number of input features and hidden nodes for each layer.\n",
    "n_features = len(X_test_scaled[0])\n",
    "\n",
    "nn = tf.keras.models.Sequential()\n",
    "\n",
    "# First hidden layer\n",
    "nn.add(tf.keras.layers.Dense(units=1, input_dim=n_features, activation='sigmoid'))\n",
    "\n",
    "# Second hidden layer\n",
    "#  YOUR CODE GOES HERE\n",
    "\n",
    "# Output layer\n",
    "nn.add(tf.keras.layers.Dense(units=1, activation='sigmoid'))\n",
    "\n",
    "# Check the structure of the model\n",
    "nn.summary()"
   ]
  },
  {
   "cell_type": "code",
   "execution_count": 14,
   "metadata": {},
   "outputs": [],
   "source": [
    "# Compile the model\n",
    "nn.compile(loss = 'binary_crossentropy', optimizer = 'adam', metrics=['accuracy'])"
   ]
  },
  {
   "cell_type": "code",
   "execution_count": 15,
   "metadata": {},
   "outputs": [
    {
     "name": "stdout",
     "output_type": "stream",
     "text": [
      "Epoch 1/100\n",
      "804/804 [==============================] - 1s 1ms/step - loss: 0.6685 - accuracy: 0.6392\n",
      "Epoch 2/100\n",
      "804/804 [==============================] - 1s 1ms/step - loss: 0.6206 - accuracy: 0.7206\n",
      "Epoch 3/100\n",
      "804/804 [==============================] - 1s 993us/step - loss: 0.5964 - accuracy: 0.7243\n",
      "Epoch 4/100\n",
      "804/804 [==============================] - 1s 1ms/step - loss: 0.5864 - accuracy: 0.7263\n",
      "Epoch 5/100\n",
      "804/804 [==============================] - 1s 1ms/step - loss: 0.5818 - accuracy: 0.7259\n",
      "Epoch 6/100\n",
      "804/804 [==============================] - 1s 1ms/step - loss: 0.5793 - accuracy: 0.7268\n",
      "Epoch 7/100\n",
      "804/804 [==============================] - 1s 1ms/step - loss: 0.5778 - accuracy: 0.7268\n",
      "Epoch 8/100\n",
      "804/804 [==============================] - 1s 1ms/step - loss: 0.5767 - accuracy: 0.7279\n",
      "Epoch 9/100\n",
      "804/804 [==============================] - 1s 1ms/step - loss: 0.5758 - accuracy: 0.7272\n",
      "Epoch 10/100\n",
      "804/804 [==============================] - 1s 1ms/step - loss: 0.5753 - accuracy: 0.7285\n",
      "Epoch 11/100\n",
      "804/804 [==============================] - 1s 1ms/step - loss: 0.5747 - accuracy: 0.7285\n",
      "Epoch 12/100\n",
      "804/804 [==============================] - 1s 1ms/step - loss: 0.5744 - accuracy: 0.7287\n",
      "Epoch 13/100\n",
      "804/804 [==============================] - 1s 1ms/step - loss: 0.5743 - accuracy: 0.7294\n",
      "Epoch 14/100\n",
      "804/804 [==============================] - 1s 997us/step - loss: 0.5742 - accuracy: 0.7289\n",
      "Epoch 15/100\n",
      "804/804 [==============================] - 1s 1ms/step - loss: 0.5741 - accuracy: 0.7296\n",
      "Epoch 16/100\n",
      "804/804 [==============================] - 1s 1ms/step - loss: 0.5740 - accuracy: 0.7290\n",
      "Epoch 17/100\n",
      "804/804 [==============================] - 1s 1ms/step - loss: 0.5739 - accuracy: 0.7298\n",
      "Epoch 18/100\n",
      "804/804 [==============================] - 1s 1ms/step - loss: 0.5739 - accuracy: 0.7297\n",
      "Epoch 19/100\n",
      "804/804 [==============================] - 1s 1ms/step - loss: 0.5738 - accuracy: 0.7296\n",
      "Epoch 20/100\n",
      "804/804 [==============================] - 1s 1ms/step - loss: 0.5738 - accuracy: 0.7296\n",
      "Epoch 21/100\n",
      "804/804 [==============================] - 1s 1ms/step - loss: 0.5737 - accuracy: 0.7299\n",
      "Epoch 22/100\n",
      "804/804 [==============================] - 1s 1ms/step - loss: 0.5737 - accuracy: 0.7294\n",
      "Epoch 23/100\n",
      "804/804 [==============================] - 1s 1ms/step - loss: 0.5738 - accuracy: 0.7299\n",
      "Epoch 24/100\n",
      "804/804 [==============================] - 1s 1ms/step - loss: 0.5737 - accuracy: 0.7294\n",
      "Epoch 25/100\n",
      "804/804 [==============================] - 1s 1ms/step - loss: 0.5737 - accuracy: 0.7303\n",
      "Epoch 26/100\n",
      "804/804 [==============================] - 1s 950us/step - loss: 0.5737 - accuracy: 0.7292\n",
      "Epoch 27/100\n",
      "804/804 [==============================] - 1s 944us/step - loss: 0.5737 - accuracy: 0.7294\n",
      "Epoch 28/100\n",
      "804/804 [==============================] - 1s 956us/step - loss: 0.5737 - accuracy: 0.7301\n",
      "Epoch 29/100\n",
      "804/804 [==============================] - 1s 980us/step - loss: 0.5737 - accuracy: 0.7300\n",
      "Epoch 30/100\n",
      "804/804 [==============================] - 1s 985us/step - loss: 0.5737 - accuracy: 0.7288\n",
      "Epoch 31/100\n",
      "804/804 [==============================] - 1s 1ms/step - loss: 0.5736 - accuracy: 0.7294\n",
      "Epoch 32/100\n",
      "804/804 [==============================] - 1s 951us/step - loss: 0.5736 - accuracy: 0.7294\n",
      "Epoch 33/100\n",
      "804/804 [==============================] - 1s 1ms/step - loss: 0.5737 - accuracy: 0.7295\n",
      "Epoch 34/100\n",
      "804/804 [==============================] - 1s 1ms/step - loss: 0.5736 - accuracy: 0.7298\n",
      "Epoch 35/100\n",
      "804/804 [==============================] - 1s 1ms/step - loss: 0.5736 - accuracy: 0.7301\n",
      "Epoch 36/100\n",
      "804/804 [==============================] - 1s 974us/step - loss: 0.5736 - accuracy: 0.7298\n",
      "Epoch 37/100\n",
      "804/804 [==============================] - 1s 970us/step - loss: 0.5736 - accuracy: 0.7292\n",
      "Epoch 38/100\n",
      "804/804 [==============================] - 1s 978us/step - loss: 0.5736 - accuracy: 0.7292\n",
      "Epoch 39/100\n",
      "804/804 [==============================] - 1s 984us/step - loss: 0.5736 - accuracy: 0.7298\n",
      "Epoch 40/100\n",
      "804/804 [==============================] - 1s 1ms/step - loss: 0.5736 - accuracy: 0.7299\n",
      "Epoch 41/100\n",
      "804/804 [==============================] - 1s 982us/step - loss: 0.5736 - accuracy: 0.7297\n",
      "Epoch 42/100\n",
      "804/804 [==============================] - 1s 968us/step - loss: 0.5735 - accuracy: 0.7302\n",
      "Epoch 43/100\n",
      "804/804 [==============================] - 1s 1ms/step - loss: 0.5736 - accuracy: 0.7296\n",
      "Epoch 44/100\n",
      "804/804 [==============================] - 1s 1ms/step - loss: 0.5736 - accuracy: 0.7289\n",
      "Epoch 45/100\n",
      "804/804 [==============================] - 1s 1ms/step - loss: 0.5735 - accuracy: 0.7290\n",
      "Epoch 46/100\n",
      "804/804 [==============================] - 1s 1000us/step - loss: 0.5736 - accuracy: 0.7298\n",
      "Epoch 47/100\n",
      "804/804 [==============================] - 1s 1ms/step - loss: 0.5735 - accuracy: 0.7295\n",
      "Epoch 48/100\n",
      "804/804 [==============================] - 1s 1ms/step - loss: 0.5735 - accuracy: 0.7296\n",
      "Epoch 49/100\n",
      "804/804 [==============================] - 1s 969us/step - loss: 0.5735 - accuracy: 0.7297\n",
      "Epoch 50/100\n",
      "804/804 [==============================] - 1s 1ms/step - loss: 0.5735 - accuracy: 0.7302\n",
      "Epoch 51/100\n",
      "804/804 [==============================] - 1s 956us/step - loss: 0.5735 - accuracy: 0.7300\n",
      "Epoch 52/100\n",
      "804/804 [==============================] - 1s 991us/step - loss: 0.5735 - accuracy: 0.7294\n",
      "Epoch 53/100\n",
      "804/804 [==============================] - 1s 961us/step - loss: 0.5735 - accuracy: 0.7295\n",
      "Epoch 54/100\n",
      "804/804 [==============================] - 1s 952us/step - loss: 0.5735 - accuracy: 0.7292\n",
      "Epoch 55/100\n",
      "804/804 [==============================] - 1s 954us/step - loss: 0.5735 - accuracy: 0.7289\n",
      "Epoch 56/100\n",
      "804/804 [==============================] - 1s 971us/step - loss: 0.5735 - accuracy: 0.7299\n",
      "Epoch 57/100\n",
      "804/804 [==============================] - 1s 977us/step - loss: 0.5735 - accuracy: 0.7292\n",
      "Epoch 58/100\n",
      "804/804 [==============================] - 1s 1ms/step - loss: 0.5735 - accuracy: 0.7302\n",
      "Epoch 59/100\n",
      "804/804 [==============================] - 1s 1ms/step - loss: 0.5735 - accuracy: 0.7299\n",
      "Epoch 60/100\n",
      "804/804 [==============================] - 1s 1ms/step - loss: 0.5735 - accuracy: 0.7300\n",
      "Epoch 61/100\n",
      "804/804 [==============================] - 1s 922us/step - loss: 0.5735 - accuracy: 0.7300\n",
      "Epoch 62/100\n",
      "804/804 [==============================] - 1s 1ms/step - loss: 0.5735 - accuracy: 0.7293\n",
      "Epoch 63/100\n",
      "804/804 [==============================] - 1s 1ms/step - loss: 0.5735 - accuracy: 0.7293\n",
      "Epoch 64/100\n",
      "804/804 [==============================] - 1s 1ms/step - loss: 0.5735 - accuracy: 0.7291\n",
      "Epoch 65/100\n",
      "804/804 [==============================] - 1s 1ms/step - loss: 0.5735 - accuracy: 0.7290\n",
      "Epoch 66/100\n",
      "804/804 [==============================] - 1s 1ms/step - loss: 0.5735 - accuracy: 0.7298\n",
      "Epoch 67/100\n",
      "804/804 [==============================] - 1s 1ms/step - loss: 0.5735 - accuracy: 0.7305\n",
      "Epoch 68/100\n",
      "804/804 [==============================] - 1s 1ms/step - loss: 0.5735 - accuracy: 0.7292\n",
      "Epoch 69/100\n",
      "804/804 [==============================] - 1s 1ms/step - loss: 0.5735 - accuracy: 0.7290\n",
      "Epoch 70/100\n",
      "804/804 [==============================] - 1s 1ms/step - loss: 0.5735 - accuracy: 0.7286\n",
      "Epoch 71/100\n",
      "804/804 [==============================] - 1s 1ms/step - loss: 0.5734 - accuracy: 0.7296\n",
      "Epoch 72/100\n",
      "804/804 [==============================] - 1s 1ms/step - loss: 0.5734 - accuracy: 0.7294\n",
      "Epoch 73/100\n",
      "804/804 [==============================] - 1s 2ms/step - loss: 0.5735 - accuracy: 0.7298\n",
      "Epoch 74/100\n",
      "804/804 [==============================] - 1s 1ms/step - loss: 0.5735 - accuracy: 0.7294\n",
      "Epoch 75/100\n",
      "804/804 [==============================] - 1s 2ms/step - loss: 0.5735 - accuracy: 0.7296\n",
      "Epoch 76/100\n",
      "804/804 [==============================] - 1s 1ms/step - loss: 0.5735 - accuracy: 0.7298\n",
      "Epoch 77/100\n",
      "804/804 [==============================] - 1s 1ms/step - loss: 0.5735 - accuracy: 0.7296\n",
      "Epoch 78/100\n",
      "804/804 [==============================] - 1s 1ms/step - loss: 0.5734 - accuracy: 0.7296\n",
      "Epoch 79/100\n",
      "804/804 [==============================] - 1s 1ms/step - loss: 0.5735 - accuracy: 0.7295\n",
      "Epoch 80/100\n",
      "804/804 [==============================] - 1s 1ms/step - loss: 0.5735 - accuracy: 0.7302\n",
      "Epoch 81/100\n",
      "804/804 [==============================] - 1s 1ms/step - loss: 0.5734 - accuracy: 0.7296\n",
      "Epoch 82/100\n",
      "804/804 [==============================] - 1s 1ms/step - loss: 0.5735 - accuracy: 0.7293\n",
      "Epoch 83/100\n",
      "804/804 [==============================] - 1s 1ms/step - loss: 0.5735 - accuracy: 0.7297\n",
      "Epoch 84/100\n",
      "804/804 [==============================] - 1s 1ms/step - loss: 0.5735 - accuracy: 0.7288\n",
      "Epoch 85/100\n",
      "804/804 [==============================] - 1s 1ms/step - loss: 0.5735 - accuracy: 0.7302\n",
      "Epoch 86/100\n",
      "804/804 [==============================] - 1s 1ms/step - loss: 0.5734 - accuracy: 0.7295\n",
      "Epoch 87/100\n",
      "804/804 [==============================] - 1s 1ms/step - loss: 0.5734 - accuracy: 0.7297\n",
      "Epoch 88/100\n",
      "804/804 [==============================] - 1s 1ms/step - loss: 0.5735 - accuracy: 0.7299\n",
      "Epoch 89/100\n",
      "804/804 [==============================] - 1s 1ms/step - loss: 0.5735 - accuracy: 0.7295\n",
      "Epoch 90/100\n",
      "804/804 [==============================] - 1s 1ms/step - loss: 0.5735 - accuracy: 0.7299\n",
      "Epoch 91/100\n",
      "804/804 [==============================] - 1s 1ms/step - loss: 0.5735 - accuracy: 0.7291\n",
      "Epoch 92/100\n",
      "804/804 [==============================] - 1s 1ms/step - loss: 0.5735 - accuracy: 0.7297\n",
      "Epoch 93/100\n",
      "804/804 [==============================] - 1s 1ms/step - loss: 0.5735 - accuracy: 0.7297\n",
      "Epoch 94/100\n",
      "804/804 [==============================] - 1s 1ms/step - loss: 0.5734 - accuracy: 0.7294\n",
      "Epoch 95/100\n",
      "804/804 [==============================] - 1s 1ms/step - loss: 0.5735 - accuracy: 0.7293\n",
      "Epoch 96/100\n",
      "804/804 [==============================] - 1s 1ms/step - loss: 0.5735 - accuracy: 0.7297\n",
      "Epoch 97/100\n",
      "804/804 [==============================] - 1s 1ms/step - loss: 0.5735 - accuracy: 0.7300\n",
      "Epoch 98/100\n",
      "804/804 [==============================] - 1s 1ms/step - loss: 0.5734 - accuracy: 0.7292\n",
      "Epoch 99/100\n",
      "804/804 [==============================] - 1s 1ms/step - loss: 0.5735 - accuracy: 0.7296\n",
      "Epoch 100/100\n",
      "804/804 [==============================] - 1s 1ms/step - loss: 0.5734 - accuracy: 0.7296\n"
     ]
    }
   ],
   "source": [
    "# Train the model\n",
    "fit_model = nn.fit(X_train_scaled,y_train, epochs=100)"
   ]
  },
  {
   "cell_type": "code",
   "execution_count": 16,
   "metadata": {},
   "outputs": [
    {
     "name": "stdout",
     "output_type": "stream",
     "text": [
      "268/268 - 0s - loss: 0.5718 - accuracy: 0.7333 - 375ms/epoch - 1ms/step\n",
      "Loss: 0.5718328356742859, Accuracy: 0.7332944869995117\n"
     ]
    }
   ],
   "source": [
    "# Evaluate the model using the test data\n",
    "model_loss, model_accuracy = nn.evaluate(X_test_scaled,y_test,verbose=2)\n",
    "print(f\"Loss: {model_loss}, Accuracy: {model_accuracy}\")"
   ]
  },
  {
   "cell_type": "code",
   "execution_count": 17,
   "metadata": {},
   "outputs": [
    {
     "name": "stderr",
     "output_type": "stream",
     "text": [
      "c:\\Users\\p0pp1\\miniconda3\\Lib\\site-packages\\keras\\src\\engine\\training.py:3079: UserWarning: You are saving your model as an HDF5 file via `model.save()`. This file format is considered legacy. We recommend using instead the native Keras format, e.g. `model.save('my_model.keras')`.\n",
      "  saving_api.save_model(\n"
     ]
    }
   ],
   "source": [
    "# Export our model to HDF5 file\n",
    "nn.save('AlphabetSoupCharity.h5')"
   ]
  }
 ],
 "metadata": {
  "kernelspec": {
   "display_name": "Python 3",
   "language": "python",
   "name": "python3"
  },
  "language_info": {
   "codemirror_mode": {
    "name": "ipython",
    "version": 3
   },
   "file_extension": ".py",
   "mimetype": "text/x-python",
   "name": "python",
   "nbconvert_exporter": "python",
   "pygments_lexer": "ipython3",
   "version": "3.11.4"
  },
  "vscode": {
   "interpreter": {
    "hash": "31f2aee4e71d21fbe5cf8b01ff0e069b9275f58929596ceb00d14d90e3e16cd6"
   }
  }
 },
 "nbformat": 4,
 "nbformat_minor": 4
}
